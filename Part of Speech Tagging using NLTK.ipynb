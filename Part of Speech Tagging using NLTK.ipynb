{
 "cells": [
  {
   "cell_type": "markdown",
   "metadata": {},
   "source": [
    "# Part of Speech Tagging using NLTK\n",
    "\n",
    "This is a simple exercise to implement POS Tagging using NLTK on a .text file.\n",
    "\n",
    "__About The File__ \n",
    "\n",
    "The file is a blog post in .txt format from my blog [ThePolymath](www.thepolymath.in)."
   ]
  },
  {
   "cell_type": "code",
   "execution_count": 45,
   "metadata": {},
   "outputs": [
    {
     "name": "stdout",
     "output_type": "stream",
     "text": [
      "[nltk_data] Downloading package stopwords to\n",
      "[nltk_data]     C:\\Users\\Deepansh\\AppData\\Roaming\\nltk_data...\n",
      "[nltk_data]   Package stopwords is already up-to-date!\n",
      "[nltk_data] Downloading package averaged_perceptron_tagger to\n",
      "[nltk_data]     C:\\Users\\Deepansh\\AppData\\Roaming\\nltk_data...\n",
      "[nltk_data]   Package averaged_perceptron_tagger is already up-to-\n",
      "[nltk_data]       date!\n",
      "[nltk_data] Downloading package punkt to\n",
      "[nltk_data]     C:\\Users\\Deepansh\\AppData\\Roaming\\nltk_data...\n",
      "[nltk_data]   Package punkt is already up-to-date!\n"
     ]
    }
   ],
   "source": [
    "import nltk \n",
    "import string\n",
    "nltk.download('stopwords')\n",
    "nltk.download('averaged_perceptron_tagger')\n",
    "nltk.download('punkt')\n",
    "from nltk.corpus import stopwords \n",
    "from nltk.tokenize import word_tokenize, sent_tokenize \n",
    "stop_words = set(stopwords.words('english'))"
   ]
  },
  {
   "cell_type": "code",
   "execution_count": 59,
   "metadata": {},
   "outputs": [],
   "source": [
    "#reading the file\n",
    "\n",
    "with open('blogpost.txt', 'r') as myfile:\n",
    "    blog = myfile.read().replace('\\n', '')"
   ]
  },
  {
   "cell_type": "markdown",
   "metadata": {},
   "source": [
    "Now that we have imported both nltk and the file, we can start building the POS.\n",
    "\n",
    "First, we tokenize the text."
   ]
  },
  {
   "cell_type": "code",
   "execution_count": 60,
   "metadata": {},
   "outputs": [],
   "source": [
    "tokenized = sent_tokenize(text)"
   ]
  },
  {
   "cell_type": "code",
   "execution_count": 61,
   "metadata": {},
   "outputs": [
    {
     "name": "stdout",
     "output_type": "stream",
     "text": [
      "[('It', 'PRP'), ('’', 'VBZ'), ('us', 'PRP'), ('going', 'VBG'), ('together', 'RB'), (',', ','), ('picking', 'VBG'), ('along', 'RB'), ('way.It', 'JJ'), ('feels', 'NNS'), ('nice', 'JJ'), ('think', 'VBP'), ('like', 'IN'), ('.', '.')]\n"
     ]
    }
   ],
   "source": [
    "for i in tokenized:\n",
    "    words = nltk.word_tokenize(i)\n",
    "    \n",
    "    #removing stopwords\n",
    "    words = [word for word in words if not word in stop_words]  \n",
    "    \n",
    "    #using the POS\n",
    "    tagged = nltk.pos_tag(words)\n",
    "    \n",
    "print(tagged)"
   ]
  }
 ],
 "metadata": {
  "kernelspec": {
   "display_name": "Python 3",
   "language": "python",
   "name": "python3"
  },
  "language_info": {
   "codemirror_mode": {
    "name": "ipython",
    "version": 3
   },
   "file_extension": ".py",
   "mimetype": "text/x-python",
   "name": "python",
   "nbconvert_exporter": "python",
   "pygments_lexer": "ipython3",
   "version": "3.6.7"
  }
 },
 "nbformat": 4,
 "nbformat_minor": 2
}
